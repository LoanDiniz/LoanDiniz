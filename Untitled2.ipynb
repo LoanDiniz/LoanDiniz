{
  "nbformat": 4,
  "nbformat_minor": 0,
  "metadata": {
    "colab": {
      "provenance": [],
      "authorship_tag": "ABX9TyNRBtLwwI9a+U/OeSD+XFZq",
      "include_colab_link": true
    },
    "kernelspec": {
      "name": "python3",
      "display_name": "Python 3"
    },
    "language_info": {
      "name": "python"
    }
  },
  "cells": [
    {
      "cell_type": "markdown",
      "metadata": {
        "id": "view-in-github",
        "colab_type": "text"
      },
      "source": [
        "<a href=\"https://colab.research.google.com/github/LoanDiniz/LoanDiniz/blob/main/Untitled2.ipynb\" target=\"_parent\"><img src=\"https://colab.research.google.com/assets/colab-badge.svg\" alt=\"Open In Colab\"/></a>"
      ]
    },
    {
      "cell_type": "code",
      "execution_count": 1,
      "metadata": {
        "colab": {
          "base_uri": "https://localhost:8080/"
        },
        "id": "wPRPWheB9eCK",
        "outputId": "25bd3ed8-33ef-4139-cc5e-c63d051bcacd"
      },
      "outputs": [
        {
          "output_type": "stream",
          "name": "stdout",
          "text": [
            "{'Mínimo': 5.01, 'Máximo': 5.26, 'Média': 5.16}\n"
          ]
        }
      ],
      "source": [
        "import requests\n",
        "import calendar\n",
        "from datetime import datetime\n",
        "\n",
        "def cotação_dolar(mmYYYY):\n",
        "\n",
        "    first_date = datetime.strptime(mmYYYY, \"%m%Y\")\n",
        "    last_date = first_date.replace(day=calendar.monthrange(first_date.year, first_date.month)[1])\n",
        "    start_date = first_date.strftime(\"%m-%d-%Y\")\n",
        "    end_date = last_date.strftime(\"%m-%d-%Y\")\n",
        "\n",
        "\n",
        "    url = f\"https://olinda.bcb.gov.br/olinda/servico/PTAX/versao/v1/odata/CotacaoDolarPeriodo(dataInicial=@dataInicial,dataFinalCotacao=@dataFinalCotacao)?@dataInicial='{start_date}'&@dataFinalCotacao='{end_date}'&$top=10000&$orderby=dataHoraCotacao%20desc&$format=json\"\n",
        "\n",
        "\n",
        "    response = requests.get(url)\n",
        "\n",
        "    if response.status_code == 200:\n",
        "        data = response.json()\n",
        "        quotes = [item['cotacaoVenda'] for item in data['value']]\n",
        "\n",
        "        if not quotes:\n",
        "            return \"Nenhuma cotação disponível para o período.\"\n",
        "\n",
        "\n",
        "        min_value = min(quotes)\n",
        "        max_value = max(quotes)\n",
        "        avg_value = sum(quotes) / len(quotes)\n",
        "\n",
        "\n",
        "        return {\"Mínimo\": round(min_value, 2), \"Máximo\": round(max_value, 2), \"Média\": round(avg_value, 2)}\n",
        "    else:\n",
        "        return \"Erro ao consultar a API.\"\n",
        "\n",
        "\n",
        "resultado = cotação_dolar (\"072021\")\n",
        "print(resultado)"
      ]
    }
  ]
}